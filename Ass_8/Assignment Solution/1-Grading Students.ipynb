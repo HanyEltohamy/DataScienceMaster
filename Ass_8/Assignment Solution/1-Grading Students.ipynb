{
 "cells": [
  {
   "cell_type": "markdown",
   "metadata": {},
   "source": [
    "Problem Link:\n",
    "https://www.hackerrank.com/challenges/grading/problem"
   ]
  },
  {
   "cell_type": "code",
   "execution_count": 76,
   "metadata": {},
   "outputs": [],
   "source": [
    "def gradingStudents(grades):\n",
    "    \n",
    "    marks=[]\n",
    "    if len(grades)<1 or len(grades)>60:\n",
    "            return 'Error'\n",
    "    else:\n",
    "         for grade in grades :\n",
    "            if grade <0 or grade >100:\n",
    "                continue\n",
    "            else:\n",
    "                if grade >=38:\n",
    "                    if grade % 5 >=3:\n",
    "                        marks.append(grade+(5-grade%5))\n",
    "                    else :\n",
    "                         marks.append(grade)\n",
    "                else:\n",
    "                      marks.append(grade)\n",
    "    return marks\n",
    "                    \n",
    "   "
   ]
  },
  {
   "cell_type": "code",
   "execution_count": null,
   "metadata": {},
   "outputs": [],
   "source": []
  },
  {
   "cell_type": "code",
   "execution_count": null,
   "metadata": {},
   "outputs": [],
   "source": []
  }
 ],
 "metadata": {
  "kernelspec": {
   "display_name": "Python 3",
   "language": "python",
   "name": "python3"
  },
  "language_info": {
   "codemirror_mode": {
    "name": "ipython",
    "version": 3
   },
   "file_extension": ".py",
   "mimetype": "text/x-python",
   "name": "python",
   "nbconvert_exporter": "python",
   "pygments_lexer": "ipython3",
   "version": "3.7.6"
  }
 },
 "nbformat": 4,
 "nbformat_minor": 4
}
