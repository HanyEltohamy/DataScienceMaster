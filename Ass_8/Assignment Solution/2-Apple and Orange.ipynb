{
 "cells": [
  {
   "cell_type": "markdown",
   "metadata": {},
   "source": [
    "Problem Link\n",
    "https://www.hackerrank.com/challenges/apple-and-orange/problem"
   ]
  },
  {
   "cell_type": "code",
   "execution_count": 18,
   "metadata": {},
   "outputs": [],
   "source": [
    "def countApplesAndOranges(s, t, a, b, apples, oranges):\n",
    "    ApplesIn=0\n",
    "    OrangeIn=0\n",
    "    for apple in apples:\n",
    "        if apple+a>=s and apple+a<=t:\n",
    "            ApplesIn+=1\n",
    "            \n",
    "    for orange in oranges:\n",
    "        if orange+b>=s and orange+b<=t:\n",
    "            OrangeIn+=1\n",
    "    \n",
    "    \n",
    "    print(ApplesIn)\n",
    "    print(OrangeIn)"
   ]
  },
  {
   "cell_type": "code",
   "execution_count": 19,
   "metadata": {},
   "outputs": [
    {
     "name": "stdout",
     "output_type": "stream",
     "text": [
      "2\n",
      "2\n"
     ]
    }
   ],
   "source": [
    "countApplesAndOranges(7,11,5,15,[-2,2,2],[-7,-8])"
   ]
  }
 ],
 "metadata": {
  "kernelspec": {
   "display_name": "Python 3",
   "language": "python",
   "name": "python3"
  },
  "language_info": {
   "codemirror_mode": {
    "name": "ipython",
    "version": 3
   },
   "file_extension": ".py",
   "mimetype": "text/x-python",
   "name": "python",
   "nbconvert_exporter": "python",
   "pygments_lexer": "ipython3",
   "version": "3.7.6"
  }
 },
 "nbformat": 4,
 "nbformat_minor": 4
}
