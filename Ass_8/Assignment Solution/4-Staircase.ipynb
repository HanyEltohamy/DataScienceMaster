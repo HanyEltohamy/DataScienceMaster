{
 "cells": [
  {
   "cell_type": "markdown",
   "metadata": {},
   "source": [
    "Problem link:\n",
    "https://www.hackerrank.com/challenges/staircase/problem\n"
   ]
  },
  {
   "cell_type": "code",
   "execution_count": 1,
   "metadata": {},
   "outputs": [],
   "source": [
    "def staircase(n):\n",
    "    if n >100 or n <0 :\n",
    "        return 'not valid'\n",
    "    shape='#'\n",
    "    mytab=' '\n",
    "    for i in range(1,n+1):\n",
    "        print(mytab*(n-i)+shape*i)\n",
    "\n"
   ]
  },
  {
   "cell_type": "code",
   "execution_count": 2,
   "metadata": {},
   "outputs": [
    {
     "name": "stdout",
     "output_type": "stream",
     "text": [
      "         #\n",
      "        ##\n",
      "       ###\n",
      "      ####\n",
      "     #####\n",
      "    ######\n",
      "   #######\n",
      "  ########\n",
      " #########\n",
      "##########\n"
     ]
    }
   ],
   "source": [
    "staircase(10)"
   ]
  },
  {
   "cell_type": "code",
   "execution_count": null,
   "metadata": {},
   "outputs": [],
   "source": []
  }
 ],
 "metadata": {
  "kernelspec": {
   "display_name": "Python 3",
   "language": "python",
   "name": "python3"
  },
  "language_info": {
   "codemirror_mode": {
    "name": "ipython",
    "version": 3
   },
   "file_extension": ".py",
   "mimetype": "text/x-python",
   "name": "python",
   "nbconvert_exporter": "python",
   "pygments_lexer": "ipython3",
   "version": "3.7.6"
  }
 },
 "nbformat": 4,
 "nbformat_minor": 4
}
