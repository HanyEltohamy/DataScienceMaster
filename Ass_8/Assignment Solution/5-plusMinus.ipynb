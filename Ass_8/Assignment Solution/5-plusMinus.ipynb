{
 "cells": [
  {
   "cell_type": "markdown",
   "metadata": {},
   "source": [
    "Problem Link\n",
    "https://www.hackerrank.com/challenges/plus-minus/problem"
   ]
  },
  {
   "cell_type": "code",
   "execution_count": 4,
   "metadata": {},
   "outputs": [],
   "source": [
    "# Complete the plusMinus function below.\n",
    "def plusMinus(arr):\n",
    "    PositiveCounter=0\n",
    "    negativeCounter=0\n",
    "    zeroCounter=0\n",
    "    if len(arr)<1:\n",
    "        return \"Not Valid\"\n",
    "    if len(arr)>100:\n",
    "        return 'Not Valid'\n",
    "    for value in arr :\n",
    "        if value >0:\n",
    "            PositiveCounter+=1 \n",
    "        elif value <0:\n",
    "            negativeCounter+=1\n",
    "        else :\n",
    "            zeroCounter+=1\n",
    "    print(\"{:.6f}\".format(PositiveCounter/len(arr), 2))\n",
    "    print(\"{:.6f}\".format(negativeCounter/len(arr), 2))\n",
    "    print(\"{:.6f}\".format(zeroCounter/len(arr), 2)) "
   ]
  },
  {
   "cell_type": "code",
   "execution_count": 5,
   "metadata": {},
   "outputs": [
    {
     "name": "stdout",
     "output_type": "stream",
     "text": [
      "0.714286\n",
      "0.142857\n",
      "0.142857\n"
     ]
    }
   ],
   "source": [
    "plusMinus([1,2,3,5,69,-1,0])"
   ]
  },
  {
   "cell_type": "code",
   "execution_count": null,
   "metadata": {},
   "outputs": [],
   "source": []
  }
 ],
 "metadata": {
  "kernelspec": {
   "display_name": "Python 3",
   "language": "python",
   "name": "python3"
  },
  "language_info": {
   "codemirror_mode": {
    "name": "ipython",
    "version": 3
   },
   "file_extension": ".py",
   "mimetype": "text/x-python",
   "name": "python",
   "nbconvert_exporter": "python",
   "pygments_lexer": "ipython3",
   "version": "3.7.6"
  }
 },
 "nbformat": 4,
 "nbformat_minor": 4
}
